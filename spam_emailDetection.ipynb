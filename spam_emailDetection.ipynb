{
  "nbformat": 4,
  "nbformat_minor": 0,
  "metadata": {
    "colab": {
      "provenance": []
    },
    "kernelspec": {
      "name": "python3",
      "display_name": "Python 3"
    },
    "language_info": {
      "name": "python"
    }
  },
  "cells": [
    {
      "cell_type": "code",
      "execution_count": 9,
      "metadata": {
        "colab": {
          "base_uri": "https://localhost:8080/"
        },
        "id": "K2nz4xsw80wE",
        "outputId": "f9ac0eb8-78d4-4b5d-9fe2-4d92818b703f"
      },
      "outputs": [
        {
          "output_type": "stream",
          "name": "stdout",
          "text": [
            "Requirement already satisfied: pandas in /usr/local/lib/python3.12/dist-packages (2.2.2)\n",
            "Requirement already satisfied: scikit-learn in /usr/local/lib/python3.12/dist-packages (1.6.1)\n",
            "Requirement already satisfied: matplotlib in /usr/local/lib/python3.12/dist-packages (3.10.0)\n",
            "Requirement already satisfied: numpy in /usr/local/lib/python3.12/dist-packages (2.0.2)\n",
            "Requirement already satisfied: python-dateutil>=2.8.2 in /usr/local/lib/python3.12/dist-packages (from pandas) (2.9.0.post0)\n",
            "Requirement already satisfied: pytz>=2020.1 in /usr/local/lib/python3.12/dist-packages (from pandas) (2025.2)\n",
            "Requirement already satisfied: tzdata>=2022.7 in /usr/local/lib/python3.12/dist-packages (from pandas) (2025.2)\n",
            "Requirement already satisfied: scipy>=1.6.0 in /usr/local/lib/python3.12/dist-packages (from scikit-learn) (1.16.1)\n",
            "Requirement already satisfied: joblib>=1.2.0 in /usr/local/lib/python3.12/dist-packages (from scikit-learn) (1.5.1)\n",
            "Requirement already satisfied: threadpoolctl>=3.1.0 in /usr/local/lib/python3.12/dist-packages (from scikit-learn) (3.6.0)\n",
            "Requirement already satisfied: contourpy>=1.0.1 in /usr/local/lib/python3.12/dist-packages (from matplotlib) (1.3.3)\n",
            "Requirement already satisfied: cycler>=0.10 in /usr/local/lib/python3.12/dist-packages (from matplotlib) (0.12.1)\n",
            "Requirement already satisfied: fonttools>=4.22.0 in /usr/local/lib/python3.12/dist-packages (from matplotlib) (4.59.1)\n",
            "Requirement already satisfied: kiwisolver>=1.3.1 in /usr/local/lib/python3.12/dist-packages (from matplotlib) (1.4.9)\n",
            "Requirement already satisfied: packaging>=20.0 in /usr/local/lib/python3.12/dist-packages (from matplotlib) (25.0)\n",
            "Requirement already satisfied: pillow>=8 in /usr/local/lib/python3.12/dist-packages (from matplotlib) (11.3.0)\n",
            "Requirement already satisfied: pyparsing>=2.3.1 in /usr/local/lib/python3.12/dist-packages (from matplotlib) (3.2.3)\n",
            "Requirement already satisfied: six>=1.5 in /usr/local/lib/python3.12/dist-packages (from python-dateutil>=2.8.2->pandas) (1.17.0)\n"
          ]
        }
      ],
      "source": [
        "#Step 1: Set Up Your Environment\n",
        "pip install pandas scikit-learn matplotlib numpy\n"
      ]
    },
    {
      "cell_type": "code",
      "source": [
        "#Load and Explore the Dataset\n",
        "import pandas as pd\n",
        "\n",
        "df = pd.read_csv('spam.csv', encoding='latin-1')[['v1', 'v2']]\n",
        "df.columns = ['label', 'message']\n",
        "print(df.head())\n"
      ],
      "metadata": {
        "colab": {
          "base_uri": "https://localhost:8080/"
        },
        "id": "kIGJ6nzB89Iq",
        "outputId": "88982abe-25de-42e5-dd45-3441e01f4e75"
      },
      "execution_count": 2,
      "outputs": [
        {
          "output_type": "stream",
          "name": "stdout",
          "text": [
            "  label                                            message\n",
            "0   ham  Go until jurong point, crazy.. Available only ...\n",
            "1   ham                      Ok lar... Joking wif u oni...\n",
            "2  spam  Free entry in 2 a wkly comp to win FA Cup fina...\n",
            "3   ham  U dun say so early hor... U c already then say...\n",
            "4   ham  Nah I don't think he goes to usf, he lives aro...\n"
          ]
        }
      ]
    },
    {
      "cell_type": "code",
      "source": [
        "#Preprocess the Text Data\n",
        "from sklearn.feature_extraction.text import CountVectorizer\n",
        "from sklearn.model_selection import train_test_split\n",
        "\n",
        "X = df['message']\n",
        "y = df['label'].map({'ham': 0, 'spam': 1})  # Convert to binary\n",
        "\n",
        "cv = CountVectorizer()\n",
        "X = cv.fit_transform(X)\n",
        "\n",
        "# Split into train/test\n",
        "X_train, X_test, y_train, y_test = train_test_split(X, y, test_size=0.2, random_state=42)\n"
      ],
      "metadata": {
        "id": "a9GfcmAy9tA5"
      },
      "execution_count": 3,
      "outputs": []
    },
    {
      "cell_type": "code",
      "source": [
        "#Train a Machine Learning Model\n",
        "from sklearn.naive_bayes import MultinomialNB\n",
        "from sklearn.metrics import accuracy_score, classification_report\n",
        "\n",
        "model = MultinomialNB()\n",
        "model.fit(X_train, y_train)\n",
        "\n",
        "y_pred = model.predict(X_test)\n",
        "print(\"Accuracy:\", accuracy_score(y_test, y_pred))\n",
        "print(classification_report(y_test, y_pred))\n"
      ],
      "metadata": {
        "colab": {
          "base_uri": "https://localhost:8080/"
        },
        "id": "UTv7vAgM9y1j",
        "outputId": "36d7f55b-8967-45c0-8447-f48b2176bafc"
      },
      "execution_count": 4,
      "outputs": [
        {
          "output_type": "stream",
          "name": "stdout",
          "text": [
            "Accuracy: 0.97847533632287\n",
            "              precision    recall  f1-score   support\n",
            "\n",
            "           0       0.99      0.99      0.99       965\n",
            "           1       0.91      0.93      0.92       150\n",
            "\n",
            "    accuracy                           0.98      1115\n",
            "   macro avg       0.95      0.96      0.95      1115\n",
            "weighted avg       0.98      0.98      0.98      1115\n",
            "\n"
          ]
        }
      ]
    },
    {
      "cell_type": "code",
      "source": [
        "#Test with Your Own Emails\n",
        "sample = [\"Congratulations! You've won a free iPhone. Click here.\"]\n",
        "sample_vec = cv.transform(sample)\n",
        "print(\"Prediction:\", model.predict(sample_vec))  # 1 for spam, 0 for ham\n"
      ],
      "metadata": {
        "colab": {
          "base_uri": "https://localhost:8080/"
        },
        "id": "6kl-RPj493QE",
        "outputId": "c118b669-9a91-4a66-ed29-4a27179585a3"
      },
      "execution_count": 5,
      "outputs": [
        {
          "output_type": "stream",
          "name": "stdout",
          "text": [
            "Prediction: [1]\n"
          ]
        }
      ]
    },
    {
      "cell_type": "code",
      "source": [
        "#Test with Your Own Emails\n",
        "sample_emails = [\n",
        "    \"Your account has been suspended due to suspicious activity. Click here to verify your details.\",\n",
        "    \"Hey, are we still on for the meeting tomorrow at 10am?\",\n",
        "    \"Win a brand new car! Reply now to claim your prize.\",\n",
        "    \"Please find attached the invoice for your recent purchase.\",\n",
        "    \"URGENT! You have won $10,000 in our lucky draw. Claim now!\",\n",
        "    \"Let's catch up over coffee this weekend!\",\n",
        "    \"Get cheap medicines at 90% off without prescription.\",\n",
        "    \"Hi Mom, just wanted to check in and see how you're doing.\",\n",
        "    \"Congratulations, you are selected for a free vacation to the Bahamas!\",\n",
        "    \"Reminder: Your electricity bill is due next week.\",\n",
        "]\n"
      ],
      "metadata": {
        "id": "ys87nDNY-pzb"
      },
      "execution_count": 10,
      "outputs": []
    },
    {
      "cell_type": "code",
      "source": [
        "#Test with Your Own Emails\n",
        "for email in sample_emails:\n",
        "    sample_vec = cv.transform([email])\n",
        "    prediction = model.predict(sample_vec)[0]\n",
        "    label = \"Spam\" if prediction == 1 else \"not spam\"\n",
        "    print(f\"Email: {email}\\nPrediction: {label}\\n\")\n"
      ],
      "metadata": {
        "colab": {
          "base_uri": "https://localhost:8080/"
        },
        "id": "7eMXg6Cq-tNt",
        "outputId": "55304493-51ca-4797-e2d2-cf620a1e8c68"
      },
      "execution_count": 8,
      "outputs": [
        {
          "output_type": "stream",
          "name": "stdout",
          "text": [
            "Email: Your account has been suspended due to suspicious activity. Click here to verify your details.\n",
            "Prediction: Spam\n",
            "\n",
            "Email: Hey, are we still on for the meeting tomorrow at 10am?\n",
            "Prediction: not spam\n",
            "\n",
            "Email: Win a brand new car! Reply now to claim your prize.\n",
            "Prediction: Spam\n",
            "\n",
            "Email: Please find attached the invoice for your recent purchase.\n",
            "Prediction: Spam\n",
            "\n",
            "Email: URGENT! You have won $10,000 in our lucky draw. Claim now!\n",
            "Prediction: Spam\n",
            "\n",
            "Email: Let's catch up over coffee this weekend!\n",
            "Prediction: not spam\n",
            "\n",
            "Email: Get cheap medicines at 90% off without prescription.\n",
            "Prediction: not spam\n",
            "\n",
            "Email: Hi Mom, just wanted to check in and see how you're doing.\n",
            "Prediction: not spam\n",
            "\n",
            "Email: Congratulations, you are selected for a free vacation to the Bahamas!\n",
            "Prediction: Spam\n",
            "\n",
            "Email: Reminder: Your electricity bill is due next week.\n",
            "Prediction: Spam\n",
            "\n"
          ]
        }
      ]
    }
  ]
}